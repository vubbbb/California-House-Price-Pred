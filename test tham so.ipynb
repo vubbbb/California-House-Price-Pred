{
 "cells": [
  {
   "cell_type": "code",
   "execution_count": null,
   "id": "a52940d7",
   "metadata": {},
   "outputs": [],
   "source": [
    "from sklearn.ensemble import RandomForestRegressor\n",
    "from sklearn.model_selection import GridSearchCV, train_test_split\n",
    "from sklearn.metrics import mean_squared_error\n",
    "from sklearn.datasets import fetch_california_housing\n",
    "import pandas as pd\n",
    "\n",
    "# Load dữ liệu California housing\n",
    "data = pd.read_csv('cadata.txt', header=None, delim_whitespace=True, encoding='latin1')\n",
    "column_names = [\n",
    "    'Median House Value', 'Median Income', 'Housing Median Age', \n",
    "    'Total Rooms', 'Total Bedrooms', 'Population', 'Households', \n",
    "    'Latitude', 'Longitude'\n",
    "]\n",
    "data.columns = column_names\n",
    "X = data.drop(['Median House Value'], axis=1)\n",
    "y = data['Median House Value']\n",
    "\n",
    "\n",
    "# Chia dữ liệu thành tập huấn luyện và tập kiểm tra\n",
    "X_train, X_test, y_train, y_test = train_test_split(X, y, test_size=0.2, random_state=42)\n",
    "\n",
    "# Khởi tạo mô hình Random Forest\n",
    "rf = RandomForestRegressor()\n",
    "\n",
    "# Thiết lập lưới siêu tham số để tinh chỉnh\n",
    "param_grid = {\n",
    "    'n_estimators': [100, 200, 300],  # Số lượng cây trong rừng\n",
    "    'max_depth': [None, 10, 20],  # Độ sâu tối đa của mỗi cây\n",
    "    'min_samples_split': [2, 5, 10],  # Số lượng mẫu tối thiểu cần để chia một nút\n",
    "    'min_samples_leaf': [1, 2, 4]  # Số lượng mẫu tối thiểu cần để tạo một láng giềng\n",
    "}\n",
    "\n",
    "# Tìm kiếm siêu tham số tốt nhất bằng GridSearchCV\n",
    "grid_search = GridSearchCV(rf, param_grid, cv=5, scoring='neg_mean_squared_error')\n",
    "grid_search.fit(X_train, y_train)\n",
    "\n",
    "# Hiển thị siêu tham số tốt nhất và độ đo RMSE trên tập kiểm tra\n",
    "print(\"Best Parameters:\", grid_search.best_params_)\n",
    "best_rf = grid_search.best_estimator_\n",
    "y_pred = best_rf.predict(X_test)\n",
    "rmse = mean_squared_error(y_test, y_pred, squared=False)\n",
    "print(\"Root Mean Squared Error on Test Set:\", rmse)\n"
   ]
  },
  {
   "cell_type": "code",
   "execution_count": null,
   "id": "2627185b",
   "metadata": {},
   "outputs": [],
   "source": []
  }
 ],
 "metadata": {
  "kernelspec": {
   "display_name": "Python 3 (ipykernel)",
   "language": "python",
   "name": "python3"
  },
  "language_info": {
   "codemirror_mode": {
    "name": "ipython",
    "version": 3
   },
   "file_extension": ".py",
   "mimetype": "text/x-python",
   "name": "python",
   "nbconvert_exporter": "python",
   "pygments_lexer": "ipython3",
   "version": "3.11.5"
  }
 },
 "nbformat": 4,
 "nbformat_minor": 5
}
